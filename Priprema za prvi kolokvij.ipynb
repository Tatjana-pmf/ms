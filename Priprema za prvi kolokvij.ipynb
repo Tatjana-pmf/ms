{
 "cells": [
  {
   "cell_type": "markdown",
   "metadata": {},
   "source": [
    "# Probni prvi kolovij\n",
    "\n",
    "## Nakić 1"
   ]
  },
  {
   "cell_type": "markdown",
   "metadata": {},
   "source": [
    "Pomoću for petlji napišite ekvivalent donjeg koda\n",
    "```py\n",
    "q = [r**2 for r in [10**i for i in range(5)]]\n",
    "```"
   ]
  },
  {
   "cell_type": "code",
   "execution_count": 1,
   "metadata": {},
   "outputs": [],
   "source": [
    "unutarnja = []\n",
    "for i in range(5):\n",
    "    unutarnja.append(10**i)\n",
    "q = []\n",
    "for r in unutarnja:\n",
    "    q.append(r**2)"
   ]
  },
  {
   "cell_type": "code",
   "execution_count": 2,
   "metadata": {},
   "outputs": [
    {
     "data": {
      "text/plain": [
       "[1, 100, 10000, 1000000, 100000000]"
      ]
     },
     "execution_count": 2,
     "metadata": {},
     "output_type": "execute_result"
    }
   ],
   "source": [
    "q"
   ]
  },
  {
   "cell_type": "code",
   "execution_count": 3,
   "metadata": {},
   "outputs": [],
   "source": [
    "q = []\n",
    "for i in range(5):[10**i for i in range(5)]\n",
    "    r = 10**i\n",
    "    q.append(r**2)"
   ]
  },
  {
   "cell_type": "code",
   "execution_count": 4,
   "metadata": {},
   "outputs": [
    {
     "data": {
      "text/plain": [
       "[1, 100, 10000, 1000000, 100000000]"
      ]
     },
     "execution_count": 4,
     "metadata": {},
     "output_type": "execute_result"
    }
   ],
   "source": [
    "q"
   ]
  },
  {
   "cell_type": "code",
   "execution_count": 5,
   "metadata": {},
   "outputs": [],
   "source": [
    "skup = {broj + 5 for broj in range(5, 99, 7) if broj % 3 == 1}"
   ]
  },
  {
   "cell_type": "code",
   "execution_count": 6,
   "metadata": {},
   "outputs": [
    {
     "data": {
      "text/plain": [
       "{24, 45, 66, 87}"
      ]
     },
     "execution_count": 6,
     "metadata": {},
     "output_type": "execute_result"
    }
   ],
   "source": [
    "skup"
   ]
  },
  {
   "cell_type": "code",
   "execution_count": 7,
   "metadata": {},
   "outputs": [],
   "source": [
    "skup = set()\n",
    "for broj in range(5, 99, 7):\n",
    "    if broj % 3 == 1:\n",
    "        skup.add(broj + 5)"
   ]
  },
  {
   "cell_type": "code",
   "execution_count": 8,
   "metadata": {},
   "outputs": [
    {
     "data": {
      "text/plain": [
       "{24, 45, 66, 87}"
      ]
     },
     "execution_count": 8,
     "metadata": {},
     "output_type": "execute_result"
    }
   ],
   "source": [
    "skup"
   ]
  },
  {
   "cell_type": "code",
   "execution_count": 9,
   "metadata": {},
   "outputs": [],
   "source": [
    "rječnik = {ime: len(ime) for ime in 'Borna Ivka Mare Silvana'.split()}"
   ]
  },
  {
   "cell_type": "code",
   "execution_count": 10,
   "metadata": {},
   "outputs": [
    {
     "data": {
      "text/plain": [
       "{'Borna': 5, 'Ivka': 4, 'Mare': 4, 'Silvana': 7}"
      ]
     },
     "execution_count": 10,
     "metadata": {},
     "output_type": "execute_result"
    }
   ],
   "source": [
    "rječnik"
   ]
  },
  {
   "cell_type": "code",
   "execution_count": 11,
   "metadata": {},
   "outputs": [],
   "source": [
    "rječnik = {}\n",
    "for ime in 'Borna Ivka Mare Silvana'.split():\n",
    "    rječnik[ime] = len(ime)"
   ]
  },
  {
   "cell_type": "code",
   "execution_count": 12,
   "metadata": {},
   "outputs": [
    {
     "data": {
      "text/plain": [
       "{'Borna': 5, 'Ivka': 4, 'Mare': 4, 'Silvana': 7}"
      ]
     },
     "execution_count": 12,
     "metadata": {},
     "output_type": "execute_result"
    }
   ],
   "source": [
    "rječnik"
   ]
  },
  {
   "cell_type": "code",
   "execution_count": 13,
   "metadata": {},
   "outputs": [],
   "source": [
    "velika = [i + j for i in range(10) for j in range(i) if j % 3 != i % 4]"
   ]
  },
  {
   "cell_type": "code",
   "execution_count": 15,
   "metadata": {},
   "outputs": [
    {
     "name": "stdout",
     "output_type": "stream",
     "text": [
      "[1, 2, 3, 3, 4, 5, 5, 6, 5, 7, 8, 6, 7, 9, 10, 7, 8, 9, 10, 11, 12, 13, 9, 10, 12, 13, 15, 9, 11, 12, 14, 15, 17]\n"
     ]
    }
   ],
   "source": [
    "print(velika)"
   ]
  },
  {
   "cell_type": "code",
   "execution_count": 16,
   "metadata": {},
   "outputs": [],
   "source": [
    "velika = []\n",
    "for i in range(10):\n",
    "    for j in range(i):\n",
    "        if j % 3 != i % 4:\n",
    "            velika.append(i + j)"
   ]
  },
  {
   "cell_type": "code",
   "execution_count": 18,
   "metadata": {},
   "outputs": [
    {
     "name": "stdout",
     "output_type": "stream",
     "text": [
      "[1, 2, 3, 3, 4, 5, 5, 6, 5, 7, 8, 6, 7, 9, 10, 7, 8, 9, 10, 11, 12, 13, 9, 10, 12, 13, 15, 9, 11, 12, 14, 15, 17]\n"
     ]
    }
   ],
   "source": [
    "print(velika)"
   ]
  },
  {
   "cell_type": "markdown",
   "metadata": {},
   "source": [
    "## Nakić 2"
   ]
  },
  {
   "cell_type": "markdown",
   "metadata": {},
   "source": [
    "Napišite funkciju koja za ulaz prima broj $N$. Funkcija treba kreirati slučajan `numpy` niz duljine $N$ s uniformnom distribucijom, zatim treba naći broj $M$ brojeva u nizu koji leže između $0.5$ i $0.6$, te treba vratiti broj $\\frac{M}{N}$. Učinite funkciju interaktivnom."
   ]
  },
  {
   "cell_type": "code",
   "execution_count": 28,
   "metadata": {},
   "outputs": [],
   "source": [
    "import numpy as np\n",
    "def proporcija(N):\n",
    "    niz = np.random.uniform(size=N)\n",
    "    M = ((niz > .5) & (niz < .6)).sum()\n",
    "    return M / N"
   ]
  },
  {
   "cell_type": "code",
   "execution_count": 39,
   "metadata": {},
   "outputs": [
    {
     "data": {
      "application/vnd.jupyter.widget-view+json": {
       "model_id": "8516d1da97fc4c01a4b1fe1d87581f7f",
       "version_major": 2,
       "version_minor": 0
      },
      "text/html": [
       "<p>Failed to display Jupyter Widget of type <code>interactive</code>.</p>\n",
       "<p>\n",
       "  If you're reading this message in the Jupyter Notebook or JupyterLab Notebook, it may mean\n",
       "  that the widgets JavaScript is still loading. If this message persists, it\n",
       "  likely means that the widgets JavaScript library is either not installed or\n",
       "  not enabled. See the <a href=\"https://ipywidgets.readthedocs.io/en/stable/user_install.html\">Jupyter\n",
       "  Widgets Documentation</a> for setup instructions.\n",
       "</p>\n",
       "<p>\n",
       "  If you're reading this message in another frontend (for example, a static\n",
       "  rendering on GitHub or <a href=\"https://nbviewer.jupyter.org/\">NBViewer</a>),\n",
       "  it may mean that your frontend doesn't currently support widgets.\n",
       "</p>\n"
      ],
      "text/plain": [
       "interactive(children=(IntSlider(value=10, description='N', min=1), Output()), _dom_classes=('widget-interact',))"
      ]
     },
     "metadata": {},
     "output_type": "display_data"
    },
    {
     "data": {
      "text/plain": [
       "<function __main__.proporcija>"
      ]
     },
     "execution_count": 39,
     "metadata": {},
     "output_type": "execute_result"
    }
   ],
   "source": [
    "import ipywidgets\n",
    "slajder = ipywidgets.IntSlider(min=1, max=100, step=1, value=10)\n",
    "ipywidgets.interact(proporcija, N=slajder)"
   ]
  },
  {
   "cell_type": "markdown",
   "metadata": {},
   "source": [
    "## Nakić 3"
   ]
  },
  {
   "cell_type": "markdown",
   "metadata": {},
   "source": [
    "Riješite sljedeću ODJ koristeći Runge-Kutta metodu četvrtog stupnja\n",
    "na segmentu $[0,4]$:"
   ]
  },
  {
   "cell_type": "code",
   "execution_count": 51,
   "metadata": {},
   "outputs": [
    {
     "data": {
      "image/png": "[encoded data removed]",
      "text/latex": [
       "$$\\left ( \\frac{d}{d x} y{\\left (x \\right )} = \\frac{1}{2 \\left(y{\\left (x \\right )} - 1\\right)}, \\quad y{\\left (0 \\right )} = \\sqrt{\\varepsilon} + 1\\right )$$"
      ],
      "text/plain": [
       "⎛d               1                 ____________    ⎞\n",
       "⎜──(y(x)) = ────────────, y(0) = ╲╱ varepsilon  + 1⎟\n",
       "⎝dx         2⋅(y(x) - 1)                           ⎠"
      ]
     },
     "execution_count": 51,
     "metadata": {},
     "output_type": "execute_result"
    }
   ],
   "source": [
    "import sympy as sp\n",
    "sp.init_printing()\n",
    "y = sp.Function('y')\n",
    "x = sp.Symbol('x')\n",
    "epsilon = sp.Symbol('varepsilon')\n",
    "\n",
    "(sp.Eq(sp.Derivative(y(x),x),1/sp.factor(2*(y(x)-1))),\n",
    " sp.Eq(y(0), 1 + sp.sqrt(epsilon)))"
   ]
  },
  {
   "cell_type": "markdown",
   "metadata": {},
   "source": [
    "Ovdje je $ε=10^{−3}$."
   ]
  },
  {
   "cell_type": "code",
   "execution_count": 52,
   "metadata": {},
   "outputs": [
    {
     "name": "stderr",
     "output_type": "stream",
     "text": [
      "/opt/anaconda3/lib/python3.6/importlib/_bootstrap.py:219: RuntimeWarning: numpy.dtype size changed, may indicate binary incompatibility. Expected 96, got 88\n",
      "  return f(*args, **kwds)\n"
     ]
    }
   ],
   "source": [
    "from scipy.integrate import ode"
   ]
  },
  {
   "cell_type": "code",
   "execution_count": 53,
   "metadata": {},
   "outputs": [],
   "source": [
    "def desna_strana(x, y):\n",
    "    return 1 / (2*(y-1))"
   ]
  },
  {
   "cell_type": "code",
   "execution_count": 92,
   "metadata": {},
   "outputs": [
    {
     "data": {
      "text/plain": [
       "array([3.00024858])"
      ]
     },
     "execution_count": 92,
     "metadata": {},
     "output_type": "execute_result"
    }
   ],
   "source": [
    "epsilon = 10**-3\n",
    "jednadžba = ode(desna_strana)\n",
    "jednadžba.set_integrator('dopri5')\n",
    "jednadžba.set_initial_value(np.sqrt(epsilon) + 1)\n",
    "jednadžba.integrate(4)"
   ]
  },
  {
   "cell_type": "markdown",
   "metadata": {},
   "source": [
    "### Pokušaj provjere"
   ]
  },
  {
   "cell_type": "code",
   "execution_count": 78,
   "metadata": {},
   "outputs": [
    {
     "data": {
      "image/png": "[encoded data removed]",
      "text/latex": [
       "$$\\frac{d}{d x} y{\\left (x \\right )} = \\frac{1}{2 \\left(y{\\left (x \\right )} - 1\\right)}$$"
      ],
      "text/plain": [
       "d               1      \n",
       "──(y(x)) = ────────────\n",
       "dx         2⋅(y(x) - 1)"
      ]
     },
     "execution_count": 78,
     "metadata": {},
     "output_type": "execute_result"
    }
   ],
   "source": [
    "y = sp.Function('y')\n",
    "x = sp.Symbol('x')\n",
    "epsilon = sp.Symbol('varepsilon')\n",
    "\n",
    "jednadžba = sp.Eq(sp.Derivative(y(x),x),1/sp.factor(2*(y(x)-1)))\n",
    "jednadžba"
   ]
  },
  {
   "cell_type": "code",
   "execution_count": 80,
   "metadata": {},
   "outputs": [
    {
     "data": {
      "image/png": "[encoded data removed]",
      "text/latex": [
       "$$\\left [ y{\\left (x \\right )} = - \\sqrt{C_{1} + x} + 1, \\quad y{\\left (x \\right )} = \\sqrt{C_{1} + x} + 1\\right ]$$"
      ],
      "text/plain": [
       "⎡           ________               ________    ⎤\n",
       "⎣y(x) = - ╲╱ C₁ + x  + 1, y(x) = ╲╱ C₁ + x  + 1⎦"
      ]
     },
     "execution_count": 80,
     "metadata": {},
     "output_type": "execute_result"
    }
   ],
   "source": [
    "sva_rješenja = sp.dsolve(jednadžba)\n",
    "sva_rješenja"
   ]
  },
  {
   "cell_type": "code",
   "execution_count": 81,
   "metadata": {},
   "outputs": [
    {
     "data": {
      "image/png": "[encoded data removed]",
      "text/latex": [
       "$$y{\\left (x \\right )} = \\sqrt{C_{1} + x} + 1$$"
      ],
      "text/plain": [
       "         ________    \n",
       "y(x) = ╲╱ C₁ + x  + 1"
      ]
     },
     "execution_count": 81,
     "metadata": {},
     "output_type": "execute_result"
    }
   ],
   "source": [
    "opće_rj = sva_rješenja[1]\n",
    "opće_rj"
   ]
  },
  {
   "cell_type": "code",
   "execution_count": 82,
   "metadata": {},
   "outputs": [
    {
     "data": {
      "image/png": "[encoded data removed]",
      "text/latex": [
       "$$\\sqrt{\\varepsilon} + 1 = \\sqrt{C_{1}} + 1$$"
      ],
      "text/plain": [
       "  ____________         ____    \n",
       "╲╱ varepsilon  + 1 = ╲╱ C₁  + 1"
      ]
     },
     "execution_count": 82,
     "metadata": {},
     "output_type": "execute_result"
    }
   ],
   "source": [
    "početni = opće_rj.subs({x: 0, y(x): 1 + sp.sqrt(epsilon)})\n",
    "početni"
   ]
  },
  {
   "cell_type": "code",
   "execution_count": 84,
   "metadata": {},
   "outputs": [
    {
     "data": {
      "image/png": "[encoded data removed]",
      "text/latex": [
       "$$y{\\left (x \\right )} = \\sqrt{\\varepsilon + x} + 1$$"
      ],
      "text/plain": [
       "         ________________    \n",
       "y(x) = ╲╱ varepsilon + x  + 1"
      ]
     },
     "execution_count": 84,
     "metadata": {},
     "output_type": "execute_result"
    }
   ],
   "source": [
    "partikularno = opće_rj.subs(sp.solve(početni)[0])\n",
    "partikularno"
   ]
  },
  {
   "cell_type": "code",
   "execution_count": 86,
   "metadata": {},
   "outputs": [
    {
     "data": {
      "image/png": "[encoded data removed]",
      "text/latex": [
       "$$y{\\left (4 \\right )} = 3.00024998437695$$"
      ],
      "text/plain": [
       "y(4) = 3.00024998437695"
      ]
     },
     "execution_count": 86,
     "metadata": {},
     "output_type": "execute_result"
    }
   ],
   "source": [
    "partikularno.subs({epsilon: sp.S(10)**-3, x: 4}).n()"
   ]
  },
  {
   "cell_type": "markdown",
   "metadata": {},
   "source": [
    "## Nakić 4"
   ]
  },
  {
   "cell_type": "markdown",
   "metadata": {},
   "source": [
    "Nacrtajte funkciju $v(x)$\n",
    "za $μ=1$, $μ=0.01$ te $μ=0.001$\n",
    "na segmentu $[0,1]$ koristeći $10000$ točaka."
   ]
  },
  {
   "cell_type": "code",
   "execution_count": 96,
   "metadata": {},
   "outputs": [
    {
     "data": {
      "image/png": "[encoded data removed]",
      "text/latex": [
       "$$v{\\left (x \\right )} = \\frac{- e^{\\frac{x}{\\mu}} + 1}{- e^{\\frac{1}{\\mu}} + 1}$$"
      ],
      "text/plain": [
       "          x    \n",
       "          ─    \n",
       "          μ    \n",
       "       - ℯ  + 1\n",
       "v(x) = ────────\n",
       "          1    \n",
       "          ─    \n",
       "          μ    \n",
       "       - ℯ  + 1"
      ]
     },
     "execution_count": 96,
     "metadata": {},
     "output_type": "execute_result"
    }
   ],
   "source": [
    "v = sp.Function('v')\n",
    "mu = sp.Symbol('mu')\n",
    "\n",
    "definicija = sp.Eq(v(x), (1-sp.E**(x/mu))/(1-sp.E**(1/mu)))\n",
    "definicija"
   ]
  },
  {
   "cell_type": "code",
   "execution_count": 103,
   "metadata": {},
   "outputs": [],
   "source": [
    "domena = np.linspace(0, 1, 10_000)"
   ]
  },
  {
   "cell_type": "code",
   "execution_count": 101,
   "metadata": {},
   "outputs": [],
   "source": [
    "import matplotlib.pyplot as plt\n",
    "%matplotlib inline"
   ]
  },
  {
   "cell_type": "code",
   "execution_count": 112,
   "metadata": {},
   "outputs": [
    {
     "data": {
      "text/plain": [
       "<matplotlib.legend.Legend at 0x7fb6465e5ac8>"
      ]
     },
     "execution_count": 112,
     "metadata": {},
     "output_type": "execute_result"
    },
    {
     "data": {
      "image/png": "[encoded data removed]",
      "text/plain": [
       "<matplotlib.figure.Figure at 0x7fb646adbcf8>"
      ]
     },
     "metadata": {},
     "output_type": "display_data"
    }
   ],
   "source": [
    "plt.plot([0, 1, 1], [0, 0, 1], label='$\\mu=0.001$')\n",
    "for mi in 0.01, 1:\n",
    "    slika = (1 - np.e ** (domena / mi)) / (1 - np.e ** (1 / mi))\n",
    "    plt.plot(domena, slika, label=f'$\\mu={mi}$')\n",
    "plt.legend()"
   ]
  },
  {
   "cell_type": "markdown",
   "metadata": {},
   "source": [
    "## Nakić 5"
   ]
  },
  {
   "cell_type": "markdown",
   "metadata": {},
   "source": [
    "Pomoću `sympy`ja, izraz `log(x**y*a**b)` pojednostavite do izraza `b*log(a) + y*log(x)`."
   ]
  },
  {
   "cell_type": "code",
   "execution_count": 113,
   "metadata": {},
   "outputs": [],
   "source": [
    "import sympy as sp\n",
    "sp.init_printing()"
   ]
  },
  {
   "cell_type": "code",
   "execution_count": 127,
   "metadata": {},
   "outputs": [
    {
     "data": {
      "image/png": "[encoded data removed]",
      "text/latex": [
       "$$\\log{\\left (a^{b} x^{y} \\right )}$$"
      ],
      "text/plain": [
       "   ⎛ b  y⎞\n",
       "log⎝a ⋅x ⎠"
      ]
     },
     "execution_count": 127,
     "metadata": {},
     "output_type": "execute_result"
    }
   ],
   "source": [
    "x, a = sp.symbols('x a', positive=True)\n",
    "y, b = sp.symbols('y b', real=True)\n",
    "izraz = sp.log(x**y * a**b)\n",
    "izraz"
   ]
  },
  {
   "cell_type": "code",
   "execution_count": 128,
   "metadata": {},
   "outputs": [
    {
     "data": {
      "image/png": "[encoded data removed]",
      "text/latex": [
       "$$b \\log{\\left (a \\right )} + y \\log{\\left (x \\right )}$$"
      ],
      "text/plain": [
       "b⋅log(a) + y⋅log(x)"
      ]
     },
     "execution_count": 128,
     "metadata": {},
     "output_type": "execute_result"
    }
   ],
   "source": [
    "sp.expand_log(izraz)"
   ]
  },
  {
   "cell_type": "markdown",
   "metadata": {},
   "source": [
    "## Čačić 1"
   ]
  },
  {
   "cell_type": "markdown",
   "metadata": {},
   "source": [
    "Što ispisuje sljedeći kod i zašto?"
   ]
  },
  {
   "cell_type": "code",
   "execution_count": 129,
   "metadata": {},
   "outputs": [
    {
     "name": "stdout",
     "output_type": "stream",
     "text": [
      "5\n",
      "[5, 3]\n"
     ]
    }
   ],
   "source": [
    "a = b = 5\n",
    "a += 3\n",
    "print(b)\n",
    "\n",
    "a = b = [5]\n",
    "a += [3]\n",
    "print(b)"
   ]
  },
  {
   "cell_type": "markdown",
   "metadata": {},
   "source": [
    "## Čačić 2"
   ]
  },
  {
   "cell_type": "markdown",
   "metadata": {},
   "source": [
    "Simulirajte bacanje pristranog novčića (vjerojatnost glave je 55%) 1000 puta. Kolika je vjerojatnost da u tih 1000 bacanja broj glava bude veći od broja pisama? Rezultat odredite numerički iz simulacije tako da ponovite pokus (svih 1000 bacanja) 100 000 puta."
   ]
  },
  {
   "cell_type": "code",
   "execution_count": 154,
   "metadata": {},
   "outputs": [],
   "source": [
    "import numpy as np"
   ]
  },
  {
   "cell_type": "code",
   "execution_count": 158,
   "metadata": {},
   "outputs": [],
   "source": [
    "broj_bacanja = 1000\n",
    "broj_pokusa = 100_000\n",
    "vjerojatnost_glave = .55\n",
    "\n",
    "pokusi = np.random.uniform(size=(broj_bacanja, broj_pokusa))\n",
    "glave = pokusi < vjerojatnost_glave"
   ]
  },
  {
   "cell_type": "code",
   "execution_count": 159,
   "metadata": {},
   "outputs": [
    {
     "data": {
      "image/png": "[encoded data removed]",
      "text/latex": [
       "$$0.99917$$"
      ],
      "text/plain": [
       "0.99917"
      ]
     },
     "execution_count": 159,
     "metadata": {},
     "output_type": "execute_result"
    }
   ],
   "source": [
    "broj_glava = glave.sum(axis=0)\n",
    "broj_pisama = broj_bacanja - broj_glava\n",
    "(broj_glava > broj_pisama).sum() / broj_pokusa"
   ]
  },
  {
   "cell_type": "markdown",
   "metadata": {},
   "source": [
    "## Čačić 3"
   ]
  },
  {
   "cell_type": "code",
   "execution_count": 160,
   "metadata": {},
   "outputs": [
    {
     "name": "stdout",
     "output_type": "stream",
     "text": [
      "Writing pdzad.csv\n"
     ]
    }
   ],
   "source": [
    "%%file pdzad.csv\n",
    "2016-07-17\t450\t628.578622\tgirl\tred\n",
    "2014-02-17\t418\t226.950670\tboy\tred\n",
    "2016-03-03\t418\t208.042709\tgirl\tred\n",
    "2014-04-28\t26\t915.238500\tboy\tblue\n",
    "2014-09-07\t182\t744.946901\tboy\tgreen\n",
    "2014-07-21\t345\t542.665316\tgirl\tblue\n",
    "2014-01-21\t807\t396.394572\tboy\tyellow\n",
    "2016-01-23\t36\t792.745992\tboy\tblue\n",
    "2015-07-07\t44\t616.078044\tgirl\tblue\n",
    "2014-08-18\t390\t527.061301\tboy\tyellow\n",
    "2014-04-02\t456\t4.716575\tgirl\tgreen\n",
    "2015-12-20\t584\t577.939367\tboy\tblue\n",
    "2015-03-18\t718\t919.344036\tgirl\tyellow\n",
    "2015-04-26\t792\t623.799887\tboy\tred\n",
    "2015-08-23\t938\t927.630485\tboy\tyellow\n",
    "2015-09-27\t14\t40.380074\tgirl\tblue\n",
    "2014-07-15\t26\t451.519075\tgirl\tblue\n",
    "2016-05-15\t116\t969.555910\tboy\tred\n",
    "2015-04-15\t209\t827.094101\tboy\tyellow\n",
    "2014-03-03\t202\t811.039542\tboy\tred\n",
    "2015-01-07\t254\t512.529009\tgirl\tblue\n",
    "2015-09-01\t2\t703.001673\tgirl\tyellow\n",
    "2016-04-26\t667\t187.608667\tboy\tred\n",
    "2016-01-23\t312\t884.018403\tgirl\tblue\n",
    "2014-10-11\t792\t585.769718\tgirl\tpurple\n",
    "2014-03-30\t507\t373.570850\tgirl\tyellow\n",
    "2015-03-27\t78\t635.718898\tgirl\tpurple\n",
    "2014-12-27\t100\t41.486492\tgirl\tpurple\n",
    "2016-04-17\t683\t138.001860\tgirl\tred\n",
    "2016-03-08\t300\t925.708079\tboy\tgreen\n",
    "2016-01-16\t925\t971.141551\tboy\tred\n",
    "2016-06-23\t317\t223.288738\tboy\tgreen\n",
    "2016-01-26\t783\t819.096804\tboy\tblue\n",
    "2015-01-28\t71\t309.760628\tboy\tblue\n",
    "2016-03-27\t325\t444.532115\tboy\tpurple\n",
    "2015-07-10\t552\t517.586297\tboy\tred\n",
    "2014-05-19\t740\t988.004758\tboy\tyellow\n",
    "2014-06-07\t463\t61.233638\tboy\tgreen\n",
    "2016-06-02\t518\t256.335606\tboy\tyellow\n",
    "2014-03-14\t528\t114.734319\tgirl\tred\n",
    "2015-06-08\t207\t731.211508\tboy\tyellow\n",
    "2015-10-09\t211\t715.706315\tboy\tred\n",
    "2014-07-08\t672\t302.847557\tboy\tyellow\n",
    "2014-05-06\t375\t957.917383\tgirl\tyellow\n",
    "2016-06-09\t530\t205.990431\tgirl\tpurple\n",
    "2016-09-06\t294\t682.120222\tgirl\tblue\n",
    "2015-09-15\t166\t190.032588\tboy\tred\n",
    "2015-01-12\t591\t978.913511\tboy\tblue\n",
    "2015-10-21\t571\t259.954915\tgirl\tgreen\n",
    "2015-09-29\t75\t414.686734\tboy\tpurple"
   ]
  },
  {
   "cell_type": "code",
   "execution_count": null,
   "metadata": {},
   "outputs": [],
   "source": []
  }
 ],
 "metadata": {
  "kernelspec": {
   "display_name": "Python 3",
   "language": "python",
   "name": "python3"
  },
  "language_info": {
   "codemirror_mode": {
    "name": "ipython",
    "version": 3
   },
   "file_extension": ".py",
   "mimetype": "text/x-python",
   "name": "python",
   "nbconvert_exporter": "python",
   "pygments_lexer": "ipython3",
   "version": "3.6.4"
  }
 },
 "nbformat": 4,
 "nbformat_minor": 2
}
