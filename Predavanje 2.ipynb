{
 "cells": [
  {
   "cell_type": "markdown",
   "metadata": {},
   "source": [
    "# Numpy"
   ]
  },
  {
   "cell_type": "markdown",
   "metadata": {},
   "source": [
    "## shape, dtype, size, itemsize"
   ]
  },
  {
   "cell_type": "code",
   "execution_count": 1,
   "metadata": {},
   "outputs": [],
   "source": [
    "import numpy as np"
   ]
  },
  {
   "cell_type": "code",
   "execution_count": 3,
   "metadata": {},
   "outputs": [],
   "source": [
    "skalar = np.array(9j)\n",
    "vektor = np.array([8, 2.3, 5, 3])\n",
    "matrica = np.array([[2, 3], [9, 0], [8, 1], [0, 0]])\n",
    "tenzor = np.array([[[2, 3, 8], [2, 2, -3]], [[9, 0, -1], [2, -8, 7]]], dtype=np.int8)"
   ]
  },
  {
   "cell_type": "code",
   "execution_count": 4,
   "metadata": {},
   "outputs": [
    {
     "data": {
      "text/plain": [
       "((), (4,), (4, 2), (2, 2, 3))"
      ]
     },
     "execution_count": 4,
     "metadata": {},
     "output_type": "execute_result"
    }
   ],
   "source": [
    "skalar.shape, vektor.shape, matrica.shape, tenzor.shape"
   ]
  },
  {
   "cell_type": "code",
   "execution_count": 5,
   "metadata": {},
   "outputs": [
    {
     "data": {
      "text/plain": [
       "array([[ 1,  4,  8, 12],\n",
       "       [16,  8,  8,  1]])"
      ]
     },
     "execution_count": 5,
     "metadata": {},
     "output_type": "execute_result"
    }
   ],
   "source": [
    "np.array([[skalar.size, vektor.size, matrica.size, tenzor.size], \n",
    "          [skalar.itemsize, vektor.itemsize, matrica.itemsize, tenzor.itemsize]])"
   ]
  },
  {
   "cell_type": "code",
   "execution_count": 6,
   "metadata": {},
   "outputs": [
    {
     "data": {
      "text/plain": [
       "array([[[ 2,  3,  8],\n",
       "        [ 2,  2, -3]],\n",
       "\n",
       "       [[ 9,  0, -1],\n",
       "        [ 2, -8,  7]]], dtype=int8)"
      ]
     },
     "execution_count": 6,
     "metadata": {},
     "output_type": "execute_result"
    }
   ],
   "source": [
    "tenzor"
   ]
  },
  {
   "cell_type": "code",
   "execution_count": 242,
   "metadata": {},
   "outputs": [
    {
     "data": {
      "text/plain": [
       "array([[ 2,  3,  8,  2],\n",
       "       [ 2, -3,  9,  0],\n",
       "       [-1,  2, -8,  7]], dtype=int8)"
      ]
     },
     "execution_count": 242,
     "metadata": {},
     "output_type": "execute_result"
    }
   ],
   "source": [
    "tenzor.reshape(3, 4)"
   ]
  },
  {
   "cell_type": "code",
   "execution_count": 59,
   "metadata": {},
   "outputs": [
    {
     "data": {
      "text/plain": [
       "(dtype('complex128'), dtype('float64'), dtype('int32'), dtype('int8'))"
      ]
     },
     "execution_count": 59,
     "metadata": {},
     "output_type": "execute_result"
    }
   ],
   "source": [
    "skalar.dtype, vektor.dtype, matrica.dtype, tenzor.dtype"
   ]
  },
  {
   "cell_type": "code",
   "execution_count": 93,
   "metadata": {},
   "outputs": [
    {
     "data": {
      "text/plain": [
       "(dtype('bool'),\n",
       " array([<built-in function chr>, <built-in function ord>], dtype=object))"
      ]
     },
     "execution_count": 93,
     "metadata": {},
     "output_type": "execute_result"
    }
   ],
   "source": [
    "np.array([True, True, False]).dtype, np.array([chr, ord])"
   ]
  },
  {
   "cell_type": "markdown",
   "metadata": {},
   "source": [
    "## arange, linspace"
   ]
  },
  {
   "cell_type": "code",
   "execution_count": 94,
   "metadata": {},
   "outputs": [
    {
     "data": {
      "text/plain": [
       "array([3. , 3.1, 3.2, 3.3, 3.4, 3.5, 3.6, 3.7, 3.8, 3.9, 4. , 4.1, 4.2,\n",
       "       4.3, 4.4, 4.5, 4.6, 4.7, 4.8, 4.9, 5. , 5.1])"
      ]
     },
     "execution_count": 94,
     "metadata": {},
     "output_type": "execute_result"
    }
   ],
   "source": [
    "np.arange(3, 5.2, 0.1)"
   ]
  },
  {
   "cell_type": "code",
   "execution_count": 112,
   "metadata": {},
   "outputs": [
    {
     "data": {
      "text/plain": [
       "array([5., 4., 3., 2., 1.], dtype=float16)"
      ]
     },
     "execution_count": 112,
     "metadata": {},
     "output_type": "execute_result"
    }
   ],
   "source": [
    "np.arange(5, 0, -1, dtype=np.float16)"
   ]
  },
  {
   "cell_type": "code",
   "execution_count": 127,
   "metadata": {},
   "outputs": [
    {
     "data": {
      "text/plain": [
       "array([1.41      , 1.43673469, 1.46346939, 1.49020408, 1.51693878,\n",
       "       1.54367347, 1.57040816, 1.59714286, 1.62387755, 1.65061224,\n",
       "       1.67734694, 1.70408163, 1.73081633, 1.75755102, 1.78428571,\n",
       "       1.81102041, 1.8377551 , 1.8644898 , 1.89122449, 1.91795918,\n",
       "       1.94469388, 1.97142857, 1.99816327, 2.02489796, 2.05163265,\n",
       "       2.07836735, 2.10510204, 2.13183673, 2.15857143, 2.18530612,\n",
       "       2.21204082, 2.23877551, 2.2655102 , 2.2922449 , 2.31897959,\n",
       "       2.34571429, 2.37244898, 2.39918367, 2.42591837, 2.45265306,\n",
       "       2.47938776, 2.50612245, 2.53285714, 2.55959184, 2.58632653,\n",
       "       2.61306122, 2.63979592, 2.66653061, 2.69326531, 2.72      ])"
      ]
     },
     "execution_count": 127,
     "metadata": {},
     "output_type": "execute_result"
    }
   ],
   "source": [
    "np.linspace(1.41, 2.72)"
   ]
  },
  {
   "cell_type": "code",
   "execution_count": 121,
   "metadata": {},
   "outputs": [
    {
     "data": {
      "text/plain": [
       "array([  0,  14,  28,  42,  57,  71,  85, 100])"
      ]
     },
     "execution_count": 121,
     "metadata": {},
     "output_type": "execute_result"
    }
   ],
   "source": [
    "np.linspace(0, 100, 8, dtype=int)"
   ]
  },
  {
   "cell_type": "code",
   "execution_count": 143,
   "metadata": {},
   "outputs": [
    {
     "data": {
      "text/plain": [
       "array([  1.        ,   1.10408951,   1.21901365,   1.34590019,\n",
       "         1.48599429,   1.64067071,   1.81144733,   2.        ,\n",
       "         2.20817903,   2.43802731,   2.69180039,   2.97198858,\n",
       "         3.28134142,   3.62289466,   4.        ,   4.41635805,\n",
       "         4.87605462,   5.38360077,   5.94397716,   6.56268285,\n",
       "         7.24578931,   8.        ,   8.83271611,   9.75210923,\n",
       "        10.76720154,  11.88795431,  13.1253657 ,  14.49157863,\n",
       "        16.        ,  17.66543222,  19.50421847,  21.53440308,\n",
       "        23.77590863,  26.25073139,  28.98315726,  32.        ,\n",
       "        35.33086444,  39.00843693,  43.06880616,  47.55181725,\n",
       "        52.50146278,  57.96631451,  64.        ,  70.66172888,\n",
       "        78.01687387,  86.13761233,  95.1036345 , 105.00292557,\n",
       "       115.93262903, 128.        ])"
      ]
     },
     "execution_count": 143,
     "metadata": {},
     "output_type": "execute_result"
    }
   ],
   "source": [
    "np.geomspace(1, 128)"
   ]
  },
  {
   "cell_type": "markdown",
   "metadata": {},
   "source": [
    "## Slučajni brojevi"
   ]
  },
  {
   "cell_type": "code",
   "execution_count": 173,
   "metadata": {},
   "outputs": [
    {
     "data": {
      "text/plain": [
       "array([[ 0.65493742, -0.10908622, -0.48049117, -0.82809484, -0.58231618],\n",
       "       [-0.05511983,  0.3645188 ,  0.48882954,  0.56285193, -0.84832594],\n",
       "       [ 0.10374324, -0.26974447,  0.23490117,  0.83859285,  0.82995184]])"
      ]
     },
     "execution_count": 173,
     "metadata": {},
     "output_type": "execute_result"
    }
   ],
   "source": [
    "np.random.uniform(-1, 1, (3, 5))  # uniformna distribucija na [-1,1>"
   ]
  },
  {
   "cell_type": "code",
   "execution_count": 175,
   "metadata": {},
   "outputs": [
    {
     "data": {
      "text/plain": [
       "array([ 80.1692124 , 111.31924753,  79.85628415,  99.33339826,\n",
       "       113.11846131,  88.01109563, 110.16370316,  88.04172322,\n",
       "        91.19298672,  98.53333331,  95.41997086,  94.20078655,\n",
       "       123.45808077,  92.37561127,  86.40075423,  97.71876733,\n",
       "       101.62885031,  91.76544244,  76.44123602, 125.83190152])"
      ]
     },
     "execution_count": 175,
     "metadata": {},
     "output_type": "execute_result"
    }
   ],
   "source": [
    "np.random.normal(100, 15, 20)  # 20 ljudi sa slučajno odabranim IQ"
   ]
  },
  {
   "cell_type": "code",
   "execution_count": 193,
   "metadata": {},
   "outputs": [
    {
     "data": {
      "text/plain": [
       "(50.499, 46.8108098098098)"
      ]
     },
     "execution_count": 193,
     "metadata": {},
     "output_type": "execute_result"
    }
   ],
   "source": [
    "poason = np.random.poisson(50, 1000)\n",
    "np.mean(poason), np.std(poason, ddof=1) ** 2"
   ]
  },
  {
   "cell_type": "markdown",
   "metadata": {},
   "source": [
    "## Još malo o matricama"
   ]
  },
  {
   "cell_type": "code",
   "execution_count": 208,
   "metadata": {},
   "outputs": [
    {
     "data": {
      "text/plain": [
       "{-3: array([], dtype=int32),\n",
       " -2: array([2]),\n",
       " -1: array([3, 7]),\n",
       " 0: array([1, 2, 1]),\n",
       " 1: array([5, 0, 4]),\n",
       " 2: array([7, 1]),\n",
       " 3: array([2]),\n",
       " 4: array([], dtype=int32)}"
      ]
     },
     "execution_count": 208,
     "metadata": {},
     "output_type": "execute_result"
    }
   ],
   "source": [
    "{k: np.diag([\n",
    "    [1, 5, 7, 2],\n",
    "    [3, 2, 0, 1],\n",
    "    [2, 7, 1, 4]\n",
    "], k) for k in range(-3, 5)}"
   ]
  },
  {
   "cell_type": "code",
   "execution_count": 209,
   "metadata": {},
   "outputs": [
    {
     "data": {
      "text/plain": [
       "array([[0, 0, 0, 0, 0],\n",
       "       [0, 0, 0, 0, 0],\n",
       "       [2, 0, 0, 0, 0],\n",
       "       [0, 3, 0, 0, 0],\n",
       "       [0, 0, 8, 0, 0]])"
      ]
     },
     "execution_count": 209,
     "metadata": {},
     "output_type": "execute_result"
    }
   ],
   "source": [
    "np.diag([2, 3, 8], -2)"
   ]
  },
  {
   "cell_type": "code",
   "execution_count": 8,
   "metadata": {},
   "outputs": [
    {
     "data": {
      "text/plain": [
       "array([[2, 0, 0, 0],\n",
       "       [0, 3, 0, 0],\n",
       "       [0, 0, 8, 0],\n",
       "       [0, 0, 0, 9]])"
      ]
     },
     "execution_count": 8,
     "metadata": {},
     "output_type": "execute_result"
    }
   ],
   "source": [
    "np.diag([2,3,8,9])"
   ]
  },
  {
   "cell_type": "code",
   "execution_count": 11,
   "metadata": {},
   "outputs": [
    {
     "data": {
      "text/plain": [
       "array([[0., 0., 0., 0., 0., 0., 0., 0., 0.],\n",
       "       [0., 0., 0., 0., 0., 0., 0., 0., 0.]])"
      ]
     },
     "execution_count": 11,
     "metadata": {},
     "output_type": "execute_result"
    }
   ],
   "source": [
    "np.zeros((2, 9))"
   ]
  },
  {
   "cell_type": "code",
   "execution_count": 217,
   "metadata": {},
   "outputs": [
    {
     "data": {
      "text/plain": [
       "array([[1., 1., 1., 1., 1., 1., 1., 1., 1.],\n",
       "       [1., 1., 1., 1., 1., 1., 1., 1., 1.]])"
      ]
     },
     "execution_count": 217,
     "metadata": {},
     "output_type": "execute_result"
    }
   ],
   "source": [
    "np.ones((2, 9))"
   ]
  },
  {
   "cell_type": "code",
   "execution_count": 218,
   "metadata": {},
   "outputs": [
    {
     "data": {
      "text/plain": [
       "array([[1., 0., 0.],\n",
       "       [0., 1., 0.],\n",
       "       [0., 0., 1.]])"
      ]
     },
     "execution_count": 218,
     "metadata": {},
     "output_type": "execute_result"
    }
   ],
   "source": [
    "np.eye(3)"
   ]
  },
  {
   "cell_type": "code",
   "execution_count": 15,
   "metadata": {},
   "outputs": [
    {
     "data": {
      "text/plain": [
       "array([[3., 3., 6.],\n",
       "       [3., 5., 7.],\n",
       "       [7., 4., 2.]])"
      ]
     },
     "execution_count": 15,
     "metadata": {},
     "output_type": "execute_result"
    }
   ],
   "source": [
    "np.array([[2,3,6], [3,4,7], [7,4,1]]) + np.eye(3)"
   ]
  },
  {
   "cell_type": "markdown",
   "metadata": {},
   "source": [
    "## Datoteke"
   ]
  },
  {
   "cell_type": "code",
   "execution_count": 16,
   "metadata": {},
   "outputs": [
    {
     "data": {
      "text/plain": [
       "(158, 2)"
      ]
     },
     "execution_count": 16,
     "metadata": {},
     "output_type": "execute_result"
    }
   ],
   "source": [
    "temperature = np.genfromtxt('tpt-world.csv', skip_header=1, delimiter=',')\n",
    "temperature.shape"
   ]
  },
  {
   "cell_type": "code",
   "execution_count": 20,
   "metadata": {},
   "outputs": [],
   "source": [
    "godine, podaci = temperature.T"
   ]
  },
  {
   "cell_type": "code",
   "execution_count": 21,
   "metadata": {},
   "outputs": [
    {
     "data": {
      "text/plain": [
       "array([1850., 1851., 1852., 1853., 1854., 1855., 1856., 1857., 1858.,\n",
       "       1859., 1860., 1861., 1862., 1863., 1864., 1865., 1866., 1867.,\n",
       "       1868., 1869., 1870., 1871., 1872., 1873., 1874., 1875., 1876.,\n",
       "       1877., 1878., 1879., 1880., 1881., 1882., 1883., 1884., 1885.,\n",
       "       1886., 1887., 1888., 1889., 1890., 1891., 1892., 1893., 1894.,\n",
       "       1895., 1896., 1897., 1898., 1899., 1900., 1901., 1902., 1903.,\n",
       "       1904., 1905., 1906., 1907., 1908., 1909., 1910., 1911., 1912.,\n",
       "       1913., 1914., 1915., 1916., 1917., 1918., 1919., 1920., 1921.,\n",
       "       1922., 1923., 1924., 1925., 1926., 1927., 1928., 1929., 1930.,\n",
       "       1931., 1932., 1933., 1934., 1935., 1936., 1937., 1938., 1939.,\n",
       "       1940., 1941., 1942., 1943., 1944., 1945., 1946., 1947., 1948.,\n",
       "       1949., 1950., 1951., 1952., 1953., 1954., 1955., 1956., 1957.,\n",
       "       1958., 1959., 1960., 1961., 1962., 1963., 1964., 1965., 1966.,\n",
       "       1967., 1968., 1969., 1970., 1971., 1972., 1973., 1974., 1975.,\n",
       "       1976., 1977., 1978., 1979., 1980., 1981., 1982., 1983., 1984.,\n",
       "       1985., 1986., 1987., 1988., 1989., 1990., 1991., 1992., 1993.,\n",
       "       1994., 1995., 1996., 1997., 1998., 1999., 2000., 2001., 2002.,\n",
       "       2003., 2004., 2005., 2006., 2007.])"
      ]
     },
     "execution_count": 21,
     "metadata": {},
     "output_type": "execute_result"
    }
   ],
   "source": [
    "godine"
   ]
  },
  {
   "cell_type": "code",
   "execution_count": 22,
   "metadata": {},
   "outputs": [
    {
     "data": {
      "text/plain": [
       "(-0.569, 2007.0)"
      ]
     },
     "execution_count": 22,
     "metadata": {},
     "output_type": "execute_result"
    }
   ],
   "source": [
    "podaci.min(), godine.max()"
   ]
  },
  {
   "cell_type": "code",
   "execution_count": 25,
   "metadata": {},
   "outputs": [
    {
     "data": {
      "text/plain": [
       "(1928.5,\n",
       " -0.17101898734177215,\n",
       " 964.1644905063291,\n",
       " array([ 1.92850000e+03, -1.71018987e-01]))"
      ]
     },
     "execution_count": 25,
     "metadata": {},
     "output_type": "execute_result"
    }
   ],
   "source": [
    "godine.mean(), podaci.mean(), temperature.mean(), temperature.mean(axis=0)"
   ]
  },
  {
   "cell_type": "code",
   "execution_count": 271,
   "metadata": {},
   "outputs": [
    {
     "name": "stderr",
     "output_type": "stream",
     "text": [
      "C:\\Users\\Veky\\Anaconda3\\lib\\site-packages\\numpy\\core\\_methods.py:35: RuntimeWarning: overflow encountered in reduce\n",
      "  return umr_prod(a, axis, dtype, out, keepdims)\n"
     ]
    },
    {
     "data": {
      "text/plain": [
       "array([             inf, -2.93882671e-116])"
      ]
     },
     "execution_count": 271,
     "metadata": {},
     "output_type": "execute_result"
    }
   ],
   "source": [
    "temperature.prod(axis=0)"
   ]
  },
  {
   "cell_type": "code",
   "execution_count": 272,
   "metadata": {},
   "outputs": [
    {
     "data": {
      "text/plain": [
       "array([[[ 2,  3,  8],\n",
       "        [ 2,  2, -3]],\n",
       "\n",
       "       [[ 9,  0, -1],\n",
       "        [ 2, -8,  7]]], dtype=int8)"
      ]
     },
     "execution_count": 272,
     "metadata": {},
     "output_type": "execute_result"
    }
   ],
   "source": [
    "tenzor"
   ]
  },
  {
   "cell_type": "code",
   "execution_count": 276,
   "metadata": {},
   "outputs": [
    {
     "data": {
      "text/plain": [
       "array([[ 18,   0,  -8],\n",
       "       [  4, -16, -21]])"
      ]
     },
     "execution_count": 276,
     "metadata": {},
     "output_type": "execute_result"
    }
   ],
   "source": [
    "tenzor.prod(axis=0)"
   ]
  },
  {
   "cell_type": "code",
   "execution_count": 277,
   "metadata": {},
   "outputs": [
    {
     "data": {
      "text/plain": [
       "array([[  4,   6, -24],\n",
       "       [ 18,   0,  -7]])"
      ]
     },
     "execution_count": 277,
     "metadata": {},
     "output_type": "execute_result"
    }
   ],
   "source": [
    "tenzor.prod(axis=1)"
   ]
  },
  {
   "cell_type": "code",
   "execution_count": 278,
   "metadata": {},
   "outputs": [
    {
     "data": {
      "text/plain": [
       "array([[  48,  -12],\n",
       "       [   0, -112]])"
      ]
     },
     "execution_count": 278,
     "metadata": {},
     "output_type": "execute_result"
    }
   ],
   "source": [
    "tenzor.prod(axis=2)"
   ]
  },
  {
   "cell_type": "code",
   "execution_count": 26,
   "metadata": {},
   "outputs": [],
   "source": [
    "np.savetxt('matrica.csv', matrica, fmt='%2d')"
   ]
  },
  {
   "cell_type": "code",
   "execution_count": 28,
   "metadata": {},
   "outputs": [
    {
     "name": "stdout",
     "output_type": "stream",
     "text": [
      " 2  3\r\n",
      " 9  0\r\n",
      " 8  1\r\n",
      " 0  0\r\n"
     ]
    }
   ],
   "source": [
    "!cat matrica.csv"
   ]
  },
  {
   "cell_type": "code",
   "execution_count": 29,
   "metadata": {},
   "outputs": [],
   "source": [
    "np.save('matrica.npy', matrica)"
   ]
  },
  {
   "cell_type": "code",
   "execution_count": 31,
   "metadata": {},
   "outputs": [
    {
     "data": {
      "text/plain": [
       "True"
      ]
     },
     "execution_count": 31,
     "metadata": {},
     "output_type": "execute_result"
    }
   ],
   "source": [
    "(np.load('matrica.npy') == matrica).all()"
   ]
  },
  {
   "cell_type": "markdown",
   "metadata": {},
   "source": [
    "## Indeksiranje"
   ]
  },
  {
   "cell_type": "code",
   "execution_count": 64,
   "metadata": {},
   "outputs": [
    {
     "data": {
      "text/plain": [
       "array([8. , 2.3, 5. , 3. ])"
      ]
     },
     "execution_count": 64,
     "metadata": {},
     "output_type": "execute_result"
    }
   ],
   "source": [
    "vektor"
   ]
  },
  {
   "cell_type": "code",
   "execution_count": 302,
   "metadata": {},
   "outputs": [
    {
     "data": {
      "text/plain": [
       "(8.0, 1, 2, 9j)"
      ]
     },
     "execution_count": 302,
     "metadata": {},
     "output_type": "execute_result"
    }
   ],
   "source": [
    "vektor[0], matrica[2, 1], tenzor[0, 1, 0], skalar[()]"
   ]
  },
  {
   "cell_type": "code",
   "execution_count": 319,
   "metadata": {},
   "outputs": [
    {
     "data": {
      "text/plain": [
       "(array([[2, 3],\n",
       "        [9, 0],\n",
       "        [8, 1],\n",
       "        [0, 0]]),\n",
       " array([3, 0, 1, 0]),\n",
       " array([8, 1]),\n",
       " array([8, 1]),\n",
       " array([[8, 1]]),\n",
       " array([[9, 0]]))"
      ]
     },
     "execution_count": 319,
     "metadata": {},
     "output_type": "execute_result"
    }
   ],
   "source": [
    "matrica, matrica[:, 1], matrica[2, :], matrica[2], matrica[2, None], matrica[None, 1]"
   ]
  },
  {
   "cell_type": "code",
   "execution_count": 322,
   "metadata": {},
   "outputs": [],
   "source": [
    "matrica[:, 1] = 3"
   ]
  },
  {
   "cell_type": "code",
   "execution_count": 323,
   "metadata": {},
   "outputs": [
    {
     "data": {
      "text/plain": [
       "array([[2, 3],\n",
       "       [3, 3],\n",
       "       [8, 3],\n",
       "       [0, 3]])"
      ]
     },
     "execution_count": 323,
     "metadata": {},
     "output_type": "execute_result"
    }
   ],
   "source": [
    "matrica"
   ]
  },
  {
   "cell_type": "code",
   "execution_count": 332,
   "metadata": {},
   "outputs": [
    {
     "data": {
      "text/plain": [
       "array([[ 0,  1,  2,  3,  4,  5,  6,  7,  8,  9],\n",
       "       [10, 11, 12, 13, 14, 15, 16, 17, 18, 19],\n",
       "       [20, 21, 22, 23, 24, 25, 26, 27, 28, 29],\n",
       "       [30, 31, 32, 33, 34, 35, 36, 37, 38, 39],\n",
       "       [40, 41, 42, 43, 44, 45, 46, 47, 48, 49],\n",
       "       [50, 51, 52, 53, 54, 55, 56, 57, 58, 59],\n",
       "       [60, 61, 62, 63, 64, 65, 66, 67, 68, 69],\n",
       "       [70, 71, 72, 73, 74, 75, 76, 77, 78, 79],\n",
       "       [80, 81, 82, 83, 84, 85, 86, 87, 88, 89],\n",
       "       [90, 91, 92, 93, 94, 95, 96, 97, 98, 99]])"
      ]
     },
     "execution_count": 332,
     "metadata": {},
     "output_type": "execute_result"
    }
   ],
   "source": [
    "tablica = np.arange(100).reshape(10, 10)\n",
    "tablica"
   ]
  },
  {
   "cell_type": "code",
   "execution_count": 331,
   "metadata": {},
   "outputs": [
    {
     "data": {
      "text/plain": [
       "array([[31, 33, 35, 37],\n",
       "       [41, 43, 45, 47],\n",
       "       [51, 53, 55, 57],\n",
       "       [61, 63, 65, 67],\n",
       "       [71, 73, 75, 77]])"
      ]
     },
     "execution_count": 331,
     "metadata": {},
     "output_type": "execute_result"
    }
   ],
   "source": [
    "tablica[3:-2, 1:8:2]"
   ]
  },
  {
   "cell_type": "code",
   "execution_count": 339,
   "metadata": {},
   "outputs": [
    {
     "data": {
      "text/plain": [
       "array([[32, 36, 31],\n",
       "       [22, 26, 21]])"
      ]
     },
     "execution_count": 339,
     "metadata": {},
     "output_type": "execute_result"
    }
   ],
   "source": [
    "tablica[:, [2, 6, 1]][[3, 2], :]"
   ]
  },
  {
   "cell_type": "code",
   "execution_count": 342,
   "metadata": {},
   "outputs": [
    {
     "data": {
      "text/plain": [
       "array([32, 26, 81])"
      ]
     },
     "execution_count": 342,
     "metadata": {},
     "output_type": "execute_result"
    }
   ],
   "source": [
    "tablica[[3, 2, 8], [2, 6, 1]]"
   ]
  },
  {
   "cell_type": "code",
   "execution_count": 347,
   "metadata": {},
   "outputs": [
    {
     "data": {
      "text/plain": [
       "array([[[ True, False, False],\n",
       "        [ True,  True,  True]],\n",
       "\n",
       "       [[False,  True,  True],\n",
       "        [ True,  True, False]]])"
      ]
     },
     "execution_count": 347,
     "metadata": {},
     "output_type": "execute_result"
    }
   ],
   "source": [
    "tenzor < 3"
   ]
  },
  {
   "cell_type": "code",
   "execution_count": 348,
   "metadata": {},
   "outputs": [
    {
     "data": {
      "text/plain": [
       "array([ 2,  2,  2, -3,  0, -1,  2, -8], dtype=int8)"
      ]
     },
     "execution_count": 348,
     "metadata": {},
     "output_type": "execute_result"
    }
   ],
   "source": [
    "tenzor[tenzor < 3]"
   ]
  },
  {
   "cell_type": "code",
   "execution_count": 33,
   "metadata": {},
   "outputs": [],
   "source": [
    "niz = np.random.normal(100, 15, 1_000_000)"
   ]
  },
  {
   "cell_type": "code",
   "execution_count": 34,
   "metadata": {
    "scrolled": true
   },
   "outputs": [
    {
     "data": {
      "text/plain": [
       "array([ 33.66409901,  32.94058921,  34.93252754, 170.67067558,\n",
       "        31.16177751,  33.47371803,  32.10960445,  29.29890996,\n",
       "       170.15797284,  20.22358158])"
      ]
     },
     "execution_count": 34,
     "metadata": {},
     "output_type": "execute_result"
    }
   ],
   "source": [
    "niz[(niz > 170) | (niz < 35)]"
   ]
  },
  {
   "cell_type": "code",
   "execution_count": 35,
   "metadata": {},
   "outputs": [
    {
     "data": {
      "text/plain": [
       "(array([  2840,  12540,  29037,  47149,  65148, 127834, 263585, 317105,\n",
       "        322164, 333614, 370532, 444900, 450700, 451334, 467847, 473079,\n",
       "        522796, 524709, 564715, 584892, 610503, 615729, 682909, 694093,\n",
       "        825413, 896373, 904466, 929114, 982844]),)"
      ]
     },
     "execution_count": 35,
     "metadata": {},
     "output_type": "execute_result"
    }
   ],
   "source": [
    "np.where(niz > 160)"
   ]
  },
  {
   "cell_type": "code",
   "execution_count": 36,
   "metadata": {},
   "outputs": [
    {
     "data": {
      "text/plain": [
       "array([[2, 3],\n",
       "       [9, 0],\n",
       "       [8, 1],\n",
       "       [0, 0]])"
      ]
     },
     "execution_count": 36,
     "metadata": {},
     "output_type": "execute_result"
    }
   ],
   "source": [
    "matrica"
   ]
  },
  {
   "cell_type": "code",
   "execution_count": 37,
   "metadata": {},
   "outputs": [
    {
     "data": {
      "text/plain": [
       "array([[-9,  3],\n",
       "       [ 9, -9],\n",
       "       [ 8, -9],\n",
       "       [-9, -9]])"
      ]
     },
     "execution_count": 37,
     "metadata": {},
     "output_type": "execute_result"
    }
   ],
   "source": [
    "np.where(matrica > 2, matrica, -9)"
   ]
  },
  {
   "cell_type": "code",
   "execution_count": 38,
   "metadata": {},
   "outputs": [
    {
     "data": {
      "text/plain": [
       "array([1944., 1981., 1983., 1987., 1988., 1989., 1990., 1991., 1993.,\n",
       "       1994., 1995., 1996., 1997., 1998., 1999., 2000., 2001., 2002.,\n",
       "       2003., 2004., 2005., 2006., 2007.])"
      ]
     },
     "execution_count": 38,
     "metadata": {},
     "output_type": "execute_result"
    }
   ],
   "source": [
    "godine[podaci > 0.1]"
   ]
  },
  {
   "cell_type": "markdown",
   "metadata": {},
   "source": [
    "## Vektorizacija"
   ]
  },
  {
   "cell_type": "code",
   "execution_count": 39,
   "metadata": {},
   "outputs": [
    {
     "name": "stdout",
     "output_type": "stream",
     "text": [
      "CPU times: user 0 ns, sys: 4 ms, total: 4 ms\n",
      "Wall time: 3.69 ms\n"
     ]
    },
    {
     "data": {
      "text/plain": [
       "array([373.14641305, 239.98619113, 300.26102513, ..., 311.00490981,\n",
       "       350.32474496, 332.19501425])"
      ]
     },
     "execution_count": 39,
     "metadata": {},
     "output_type": "execute_result"
    }
   ],
   "source": [
    "%time niz * 3"
   ]
  },
  {
   "cell_type": "code",
   "execution_count": 40,
   "metadata": {},
   "outputs": [
    {
     "name": "stdout",
     "output_type": "stream",
     "text": [
      "CPU times: user 388 ms, sys: 12 ms, total: 400 ms\n",
      "Wall time: 401 ms\n"
     ]
    },
    {
     "data": {
      "text/plain": [
       "array([373.14641305, 239.98619113, 300.26102513, ..., 311.00490981,\n",
       "       350.32474496, 332.19501425])"
      ]
     },
     "execution_count": 40,
     "metadata": {},
     "output_type": "execute_result"
    }
   ],
   "source": [
    "%time np.array([x * 3 for x in niz])"
   ]
  },
  {
   "cell_type": "code",
   "execution_count": 393,
   "metadata": {},
   "outputs": [
    {
     "data": {
      "text/plain": [
       "10219701410.988619"
      ]
     },
     "execution_count": 393,
     "metadata": {},
     "output_type": "execute_result"
    }
   ],
   "source": [
    "(niz * niz).sum()"
   ]
  },
  {
   "cell_type": "code",
   "execution_count": 394,
   "metadata": {},
   "outputs": [
    {
     "data": {
      "text/plain": [
       "10219701410.988634"
      ]
     },
     "execution_count": 394,
     "metadata": {},
     "output_type": "execute_result"
    }
   ],
   "source": [
    "niz @ niz"
   ]
  },
  {
   "cell_type": "code",
   "execution_count": 398,
   "metadata": {},
   "outputs": [],
   "source": [
    "A = np.random.normal(0, 1, (256, 64))\n",
    "B = np.random.normal(0, 1, (64, 128))\n",
    "v = np.random.normal(0, 1, 128)"
   ]
  },
  {
   "cell_type": "code",
   "execution_count": 400,
   "metadata": {},
   "outputs": [
    {
     "name": "stdout",
     "output_type": "stream",
     "text": [
      "Wall time: 14 ms\n"
     ]
    },
    {
     "data": {
      "text/plain": [
       "(256,)"
      ]
     },
     "execution_count": 400,
     "metadata": {},
     "output_type": "execute_result"
    }
   ],
   "source": [
    "%time (A @ B @ v).shape"
   ]
  },
  {
   "cell_type": "code",
   "execution_count": 406,
   "metadata": {},
   "outputs": [
    {
     "data": {
      "text/plain": [
       "array([[ 5,  6,  7, 10, 12, 14],\n",
       "       [ 8,  9, 10, 16, 18, 20],\n",
       "       [15, 18, 21, 20, 24, 28],\n",
       "       [24, 27, 30, 32, 36, 40]])"
      ]
     },
     "execution_count": 406,
     "metadata": {},
     "output_type": "execute_result"
    }
   ],
   "source": [
    "np.kron([[1, 2], [3, 4]], [[5, 6, 7], [8, 9, 10]])"
   ]
  },
  {
   "cell_type": "code",
   "execution_count": 44,
   "metadata": {},
   "outputs": [],
   "source": [
    "mc = np.matrix([[1, 1j], [-2j, 3j]])"
   ]
  },
  {
   "cell_type": "code",
   "execution_count": 45,
   "metadata": {},
   "outputs": [
    {
     "data": {
      "text/plain": [
       "matrix([[ True,  True],\n",
       "        [ True,  True]])"
      ]
     },
     "execution_count": 45,
     "metadata": {},
     "output_type": "execute_result"
    }
   ],
   "source": [
    "mc.T.conj() == mc.H"
   ]
  },
  {
   "cell_type": "code",
   "execution_count": 46,
   "metadata": {},
   "outputs": [
    {
     "data": {
      "text/plain": [
       "matrix([[ 0.,  1.],\n",
       "        [-2.,  3.]])"
      ]
     },
     "execution_count": 46,
     "metadata": {},
     "output_type": "execute_result"
    }
   ],
   "source": [
    "mc.imag"
   ]
  },
  {
   "cell_type": "code",
   "execution_count": 47,
   "metadata": {},
   "outputs": [
    {
     "data": {
      "text/plain": [
       "array([[ 0.        ,  1.57079633],\n",
       "       [-1.57079633,  1.57079633]])"
      ]
     },
     "execution_count": 47,
     "metadata": {},
     "output_type": "execute_result"
    }
   ],
   "source": [
    "np.angle(mc)"
   ]
  },
  {
   "cell_type": "markdown",
   "metadata": {},
   "source": [
    "## Inverzi"
   ]
  },
  {
   "cell_type": "code",
   "execution_count": 48,
   "metadata": {},
   "outputs": [],
   "source": [
    "import numpy.linalg as la"
   ]
  },
  {
   "cell_type": "code",
   "execution_count": 49,
   "metadata": {},
   "outputs": [
    {
     "data": {
      "text/plain": [
       "(-1.9999999999999998+2.9999999999999996j)"
      ]
     },
     "execution_count": 49,
     "metadata": {},
     "output_type": "execute_result"
    }
   ],
   "source": [
    "la.det(mc)"
   ]
  },
  {
   "cell_type": "code",
   "execution_count": 50,
   "metadata": {},
   "outputs": [
    {
     "data": {
      "text/plain": [
       "matrix([[ 0.69230769-0.46153846j, -0.23076923+0.15384615j],\n",
       "        [ 0.46153846-0.30769231j, -0.15384615-0.23076923j]])"
      ]
     },
     "execution_count": 50,
     "metadata": {},
     "output_type": "execute_result"
    }
   ],
   "source": [
    "la.inv(mc)"
   ]
  },
  {
   "cell_type": "code",
   "execution_count": 51,
   "metadata": {},
   "outputs": [
    {
     "data": {
      "text/plain": [
       "matrix([[ True,  True],\n",
       "        [ True,  True]])"
      ]
     },
     "execution_count": 51,
     "metadata": {},
     "output_type": "execute_result"
    }
   ],
   "source": [
    "mc.I @ mc == np.eye(2)"
   ]
  },
  {
   "cell_type": "markdown",
   "metadata": {},
   "source": [
    "## Učitavanje s weba"
   ]
  },
  {
   "cell_type": "code",
   "execution_count": 52,
   "metadata": {},
   "outputs": [],
   "source": [
    "import urllib.request as rq"
   ]
  },
  {
   "cell_type": "code",
   "execution_count": 53,
   "metadata": {},
   "outputs": [],
   "source": [
    "import pathlib\n",
    "with rq.urlopen('https://raw.githubusercontent.com/jrjohansson/scientific-python-lectures/master/stockholm_td_adj.dat') as url:\n",
    "    pathlib.Path('Stockholm.dat').write_bytes(url.read())"
   ]
  },
  {
   "cell_type": "code",
   "execution_count": 68,
   "metadata": {},
   "outputs": [],
   "source": [
    "stockholm = np.genfromtxt('Stockholm.dat')"
   ]
  },
  {
   "cell_type": "code",
   "execution_count": 69,
   "metadata": {},
   "outputs": [
    {
     "data": {
      "text/plain": [
       "(77431, 7)"
      ]
     },
     "execution_count": 69,
     "metadata": {},
     "output_type": "execute_result"
    }
   ],
   "source": [
    "stockholm.shape"
   ]
  },
  {
   "cell_type": "code",
   "execution_count": 67,
   "metadata": {},
   "outputs": [
    {
     "name": "stdout",
     "output_type": "stream",
     "text": [
      "1800  1  1    -6.1    -6.1    -6.1 1\r\n",
      "1800  1  2   -15.4   -15.4   -15.4 1\r\n",
      "1800  1  3   -15.0   -15.0   -15.0 1\r\n",
      "1800  1  4   -19.3   -19.3   -19.3 1\r\n",
      "1800  1  5   -16.8   -16.8   -16.8 1\r\n",
      "1800  1  6   -11.4   -11.4   -11.4 1\r\n",
      "1800  1  7    -7.6    -7.6    -7.6 1\r\n",
      "1800  1  8    -7.1    -7.1    -7.1 1\r\n",
      "1800  1  9   -10.1   -10.1   -10.1 1\r\n",
      "1800  1 10    -9.5    -9.5    -9.5 1\r\n"
     ]
    }
   ],
   "source": [
    "!head Stockholm.dat"
   ]
  },
  {
   "cell_type": "code",
   "execution_count": 454,
   "metadata": {},
   "outputs": [],
   "source": [
    "temperatura = stockholm[:, 3]"
   ]
  },
  {
   "cell_type": "code",
   "execution_count": 458,
   "metadata": {},
   "outputs": [
    {
     "data": {
      "text/plain": [
       "(6.197109684751585, 8.282271621340573, -25.8, 28.3)"
      ]
     },
     "execution_count": 458,
     "metadata": {},
     "output_type": "execute_result"
    }
   ],
   "source": [
    "temperatura.mean(), temperatura.std(), temperatura.min(), temperatura.max()"
   ]
  },
  {
   "cell_type": "code",
   "execution_count": 73,
   "metadata": {},
   "outputs": [
    {
     "data": {
      "text/plain": [
       "{1.0, 2.0, 3.0, 4.0, 5.0, 6.0, 7.0, 8.0, 9.0, 10.0, 11.0, 12.0}"
      ]
     },
     "execution_count": 73,
     "metadata": {},
     "output_type": "execute_result"
    }
   ],
   "source": [
    "mjesec = stockholm[:, 1]\n",
    "set(mjesec)"
   ]
  },
  {
   "cell_type": "code",
   "execution_count": 467,
   "metadata": {},
   "outputs": [
    {
     "data": {
      "text/plain": [
       "-3.212109570736596"
      ]
     },
     "execution_count": 467,
     "metadata": {},
     "output_type": "execute_result"
    }
   ],
   "source": [
    "stockholm[mjesec == 2, 3].mean()"
   ]
  },
  {
   "cell_type": "code",
   "execution_count": 74,
   "metadata": {},
   "outputs": [],
   "source": [
    "po_mjesecima = {m: stockholm[mjesec == m, 3].mean() for m in np.arange(1, 13)}"
   ]
  },
  {
   "cell_type": "code",
   "execution_count": 80,
   "metadata": {},
   "outputs": [
    {
     "data": {
      "text/plain": [
       "dict_items([(1, -3.0447656725502132), (2, -3.212109570736596), (3, -0.8321515520389532), (4, 3.888474842767295), (5, 9.560970785149117), (6, 14.659591194968554), (7, 17.318837492391967), (8, 16.117650639074864), (9, 11.81937106918239), (10, 6.760057821059039), (11, 1.9458490566037738), (12, -1.211275106512477)])"
      ]
     },
     "execution_count": 80,
     "metadata": {},
     "output_type": "execute_result"
    }
   ],
   "source": [
    "po_mjesecima.items()"
   ]
  },
  {
   "cell_type": "code",
   "execution_count": 76,
   "metadata": {},
   "outputs": [],
   "source": [
    "%matplotlib inline"
   ]
  },
  {
   "cell_type": "code",
   "execution_count": 77,
   "metadata": {},
   "outputs": [],
   "source": [
    "import matplotlib.pyplot as plt"
   ]
  },
  {
   "cell_type": "code",
   "execution_count": 81,
   "metadata": {},
   "outputs": [
    {
     "data": {
      "text/plain": [
       "[<matplotlib.lines.Line2D at 0x7f28da1f1240>]"
      ]
     },
     "execution_count": 81,
     "metadata": {},
     "output_type": "execute_result"
    },
    {
     "data": {
      "image/png": "[encoded data removed]",
      "text/plain": [
       "<matplotlib.figure.Figure at 0x7f28da3c8b00>"
      ]
     },
     "metadata": {},
     "output_type": "display_data"
    }
   ],
   "source": [
    "plt.plot(po_mjesecima.keys(), po_mjesecima.values())"
   ]
  },
  {
   "cell_type": "code",
   "execution_count": 85,
   "metadata": {},
   "outputs": [
    {
     "data": {
      "text/plain": [
       "[<matplotlib.lines.Line2D at 0x7f28da101860>]"
      ]
     },
     "execution_count": 85,
     "metadata": {},
     "output_type": "execute_result"
    },
    {
     "data": {
      "image/png": "[encoded data removed]",
      "text/plain": [
       "<matplotlib.figure.Figure at 0x7f28da26ba20>"
      ]
     },
     "metadata": {},
     "output_type": "display_data"
    }
   ],
   "source": [
    "x = np.linspace(-3, 3)\n",
    "y = x**2 - 5*x + 2\n",
    "plt.plot(x, y)"
   ]
  },
  {
   "cell_type": "markdown",
   "metadata": {},
   "source": [
    "## Vektorizacija funkcija"
   ]
  },
  {
   "cell_type": "code",
   "execution_count": 483,
   "metadata": {},
   "outputs": [],
   "source": [
    "mc2 = mc.copy()\n",
    "mc2[1, 1] = 7"
   ]
  },
  {
   "cell_type": "code",
   "execution_count": 484,
   "metadata": {},
   "outputs": [
    {
     "data": {
      "text/plain": [
       "matrix([[ 1.+0.j,  0.+1.j,  1.+0.j,  0.+1.j],\n",
       "        [-0.-2.j,  0.+3.j, -0.-2.j,  7.+0.j]])"
      ]
     },
     "execution_count": 484,
     "metadata": {},
     "output_type": "execute_result"
    }
   ],
   "source": [
    "np.hstack([mc, mc2])"
   ]
  },
  {
   "cell_type": "code",
   "execution_count": 485,
   "metadata": {},
   "outputs": [
    {
     "data": {
      "text/plain": [
       "matrix([[ 1.+0.j,  0.+1.j],\n",
       "        [-0.-2.j,  0.+3.j],\n",
       "        [ 1.+0.j,  0.+1.j],\n",
       "        [-0.-2.j,  7.+0.j]])"
      ]
     },
     "execution_count": 485,
     "metadata": {},
     "output_type": "execute_result"
    }
   ],
   "source": [
    "np.vstack([mc, mc2])"
   ]
  },
  {
   "cell_type": "code",
   "execution_count": 87,
   "metadata": {},
   "outputs": [],
   "source": [
    "def funkcija(x):\n",
    "    if x < 0: return b'N'\n",
    "    elif x < 99: return b'M'\n",
    "    elif x < 150: return b'K'\n",
    "    else: return b'V'"
   ]
  },
  {
   "cell_type": "code",
   "execution_count": 505,
   "metadata": {},
   "outputs": [
    {
     "ename": "ValueError",
     "evalue": "The truth value of an array with more than one element is ambiguous. Use a.any() or a.all()",
     "output_type": "error",
     "traceback": [
      "\u001b[1;31m---------------------------------------------------------------------------\u001b[0m",
      "\u001b[1;31mValueError\u001b[0m                                Traceback (most recent call last)",
      "\u001b[1;32m<ipython-input-505-0b0ca0510d35>\u001b[0m in \u001b[0;36m<module>\u001b[1;34m()\u001b[0m\n\u001b[1;32m----> 1\u001b[1;33m \u001b[0mfunkcija\u001b[0m\u001b[1;33m(\u001b[0m\u001b[0mniz\u001b[0m\u001b[1;33m)\u001b[0m\u001b[1;33m\u001b[0m\u001b[0m\n\u001b[0m",
      "\u001b[1;32m<ipython-input-503-67d41279dc36>\u001b[0m in \u001b[0;36mfunkcija\u001b[1;34m(x)\u001b[0m\n\u001b[0;32m      1\u001b[0m \u001b[1;32mdef\u001b[0m \u001b[0mfunkcija\u001b[0m\u001b[1;33m(\u001b[0m\u001b[0mx\u001b[0m\u001b[1;33m)\u001b[0m\u001b[1;33m:\u001b[0m\u001b[1;33m\u001b[0m\u001b[0m\n\u001b[1;32m----> 2\u001b[1;33m     \u001b[1;32mif\u001b[0m \u001b[0mx\u001b[0m \u001b[1;33m<\u001b[0m \u001b[1;36m0\u001b[0m\u001b[1;33m:\u001b[0m \u001b[1;32mreturn\u001b[0m \u001b[1;34mb'N'\u001b[0m\u001b[1;33m\u001b[0m\u001b[0m\n\u001b[0m\u001b[0;32m      3\u001b[0m     \u001b[1;32melif\u001b[0m \u001b[0mx\u001b[0m \u001b[1;33m<\u001b[0m \u001b[1;36m99\u001b[0m\u001b[1;33m:\u001b[0m \u001b[1;32mreturn\u001b[0m \u001b[1;34mb'M'\u001b[0m\u001b[1;33m\u001b[0m\u001b[0m\n\u001b[0;32m      4\u001b[0m     \u001b[1;32melif\u001b[0m \u001b[0mx\u001b[0m \u001b[1;33m<\u001b[0m \u001b[1;36m150\u001b[0m\u001b[1;33m:\u001b[0m \u001b[1;32mreturn\u001b[0m \u001b[1;34mb'K'\u001b[0m\u001b[1;33m\u001b[0m\u001b[0m\n\u001b[0;32m      5\u001b[0m     \u001b[1;32melse\u001b[0m\u001b[1;33m:\u001b[0m \u001b[1;32mreturn\u001b[0m \u001b[1;34mb'V'\u001b[0m\u001b[1;33m\u001b[0m\u001b[0m\n",
      "\u001b[1;31mValueError\u001b[0m: The truth value of an array with more than one element is ambiguous. Use a.any() or a.all()"
     ]
    }
   ],
   "source": [
    "funkcija(niz)"
   ]
  },
  {
   "cell_type": "code",
   "execution_count": 88,
   "metadata": {},
   "outputs": [],
   "source": [
    "vektorizirana = np.vectorize(funkcija)"
   ]
  },
  {
   "cell_type": "code",
   "execution_count": 89,
   "metadata": {},
   "outputs": [
    {
     "name": "stdout",
     "output_type": "stream",
     "text": [
      "CPU times: user 312 ms, sys: 16 ms, total: 328 ms\n",
      "Wall time: 326 ms\n"
     ]
    },
    {
     "data": {
      "text/plain": [
       "array([b'K', b'M', b'K', ..., b'K', b'K', b'K'], dtype='|S1')"
      ]
     },
     "execution_count": 89,
     "metadata": {},
     "output_type": "execute_result"
    }
   ],
   "source": [
    "%time vektorizirana(niz)"
   ]
  },
  {
   "cell_type": "code",
   "execution_count": 90,
   "metadata": {},
   "outputs": [
    {
     "name": "stdout",
     "output_type": "stream",
     "text": [
      "CPU times: user 696 ms, sys: 0 ns, total: 696 ms\n",
      "Wall time: 695 ms\n"
     ]
    },
    {
     "data": {
      "text/plain": [
       "array([b'K', b'M', b'K', ..., b'K', b'K', b'K'], dtype='|S1')"
      ]
     },
     "execution_count": 90,
     "metadata": {},
     "output_type": "execute_result"
    }
   ],
   "source": [
    "%time np.array(list(map(funkcija, niz)))"
   ]
  },
  {
   "cell_type": "markdown",
   "metadata": {},
   "source": [
    "## Zadaci za vježbu"
   ]
  },
  {
   "cell_type": "markdown",
   "metadata": {},
   "source": [
    "1. Definirajte $A$ kao $5\\times5$ slučajnu matricu čiji elementi su uniformno izabrani iz $[0,1\\rangle$. Izvucite matricu $B$ kao $2\\times2$ gornji lijevi kut od $A$. Kvadrirajte matricu $B$ te njen kvadrat ubacite umjesto $B$ u gornji lijevi kut od $A$.\n",
    "\n",
    "2. Objasnite:"
   ]
  },
  {
   "cell_type": "code",
   "execution_count": 516,
   "metadata": {},
   "outputs": [
    {
     "name": "stdout",
     "output_type": "stream",
     "text": [
      "[0.  0.5 1. ] [1. 2. 3.] [-4. -2.  0.]\n",
      "[0. 4. 8.] [0. 4. 8.] [0. 4. 8.]\n"
     ]
    }
   ],
   "source": [
    "x = np.linspace(0, 1, 3)\n",
    "y = 2 * x + 1\n",
    "z = 4 * x - 4\n",
    "print(x, y, z)\n",
    "\n",
    "x = np.linspace(0, 1, 3)\n",
    "y = x\n",
    "y *= 2\n",
    "y += 1\n",
    "z = x\n",
    "z *= 4\n",
    "z -= 4\n",
    "print(x, y, z)"
   ]
  },
  {
   "cell_type": "markdown",
   "metadata": {},
   "source": [
    "Vektorizirajte rješenje zadatka s trapeznom formulom iz prethodnog predavanja. Vektorizirana funkcija treba za argumente primati funkciju $f$ i broj $n$, te dva niza $a$ i $b$ iste duljine, te vraćati niz brojeva koji odgovaraju aproksimacijama integrala $\\int_{a_i}^{b_i}f(x)\\,dx$."
   ]
  },
  {
   "cell_type": "markdown",
   "metadata": {},
   "source": [
    "Dana je funkcija $$f(x):=\\frac{n}{n+1}\\cdot\\begin{cases}\n",
    "\\left(\\frac12\\right)^{1+\\frac1n}-\\left(\\frac12-x\\right)^{1+\\frac1n},&0\\le x\\le\\frac12\\\\\n",
    "\\left(\\frac12\\right)^{1+\\frac1n}-\\left(x-\\frac12\\right)^{1+\\frac1n},&\\frac12<x\\le1\n",
    "\\end{cases}.$$\n",
    "Ovdje je $n\\in\\langle0,1]$ realan broj. Napišite vektoriziranu funkciju za računanje vrijednosti funkcije $f$ na skupu $m$ ekvidistantnih brojeva između $0$ i $1$."
   ]
  },
  {
   "cell_type": "markdown",
   "metadata": {},
   "source": [
    "Neka su $x_1, \\dotsc, x_n$ uniformno distribuirani slučajni brojevi između $a$ i $b$. Tada se $\\int_a^b f$ može aproksimirati sa $\\frac{b-a}{n}\\cdot\\sum_{i=1}^n f(x_i)$, postupkom koji se obično zove _Monte-Carlo integracija_. Napišite funkciju koja kao ulaz prima $a$, $b$, $f$ te $n$ s podrazumijevanom vrijednošću $1000$, te vraća rezultat Monte-Carlo integracije. Funkcija ne smije koristiti petlje."
   ]
  },
  {
   "cell_type": "code",
   "execution_count": 91,
   "metadata": {},
   "outputs": [],
   "source": [
    "def trapezint(f, n, a, b):\n",
    "    h = (b - a) / n\n",
    "    x = np.linspace(a, b, n)\n",
    "    fv = np.vectorize(f)\n",
    "    y = fv(x)\n",
    "    lijevi = y[:-1]\n",
    "    desni = y[1:]\n",
    "    sumandi = lijevi + desni\n",
    "    return h / 2 * sumandi.sum()"
   ]
  },
  {
   "cell_type": "code",
   "execution_count": 92,
   "metadata": {},
   "outputs": [
    {
     "data": {
      "text/plain": [
       "2.3100168350168353"
      ]
     },
     "execution_count": 92,
     "metadata": {},
     "output_type": "execute_result"
    }
   ],
   "source": [
    "trapezint(lambda x: x**2, 100, 1, 2)"
   ]
  },
  {
   "cell_type": "code",
   "execution_count": null,
   "metadata": {},
   "outputs": [],
   "source": []
  }
 ],
 "metadata": {
  "kernelspec": {
   "display_name": "Python 3",
   "language": "python",
   "name": "python3"
  },
  "language_info": {
   "codemirror_mode": {
    "name": "ipython",
    "version": 3
   },
   "file_extension": ".py",
   "mimetype": "text/x-python",
   "name": "python",
   "nbconvert_exporter": "python",
   "pygments_lexer": "ipython3",
   "version": "3.6.4"
  }
 },
 "nbformat": 4,
 "nbformat_minor": 2
}
