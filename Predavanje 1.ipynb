{
 "cells": [
  {
   "cell_type": "markdown",
   "metadata": {},
   "source": [
    "# Matematički softver - prvo predavanje"
   ]
  },
  {
   "cell_type": "markdown",
   "metadata": {},
   "source": [
    "Materijali će se nalaziti na Githubu, u repozitoriju kolegija. Za potrebe kolegija, svi morate imati _neku_ online bazu vlastitog koda, u kojoj napravite repozitorij 'Matematički softver'. Preporučujem Github."
   ]
  },
  {
   "cell_type": "markdown",
   "metadata": {},
   "source": [
    "## sadržaj kolegija"
   ]
  },
  {
   "cell_type": "markdown",
   "metadata": {},
   "source": [
    "* Python / Jupyter / Anaconda\n",
    "* Numpy / Scipy\n",
    "* Pandas\n",
    "* Sympy\n",
    "* Sage (možda)\n",
    "* Markdown\n",
    "* LaTeX"
   ]
  },
  {
   "cell_type": "markdown",
   "metadata": {},
   "source": [
    "## cilj kolegija"
   ]
  },
  {
   "cell_type": "markdown",
   "metadata": {},
   "source": [
    "Razviti sposobnost korištenja Pythona kao moćnog alata za znanstvenike"
   ]
  },
  {
   "cell_type": "markdown",
   "metadata": {},
   "source": [
    "## polaganje"
   ]
  },
  {
   "cell_type": "markdown",
   "metadata": {},
   "source": [
    "Ocjena se formira iz dva kolokvija i domaćih zadaća. Kolokviji su _open-book_ tipa i nose 80 bodova. Domaće zadaće su u obliku eseja/projekta sa zadanim elementima.\n",
    "\n",
    "Predaja svih domaćih zadaća nužan je uvjet za polaganje kolegija. Domaća zadaća je uspješno predana samo ako ima _sve_ tražene elemente. Domaće zadaće nose 20 bodova, koji se dodjeljuju za _dodatne_ elemente.\n",
    "\n",
    "Zbog kontinuiranog praćenja, popravni ispit ne postoji. U slučaju opravdane spriječenosti prisustvovanja kolokviju, javite se što prije da dogovorimo alternativne metode ocjenjivanja."
   ]
  },
  {
   "cell_type": "markdown",
   "metadata": {},
   "source": [
    "## literatura"
   ]
  },
  {
   "cell_type": "markdown",
   "metadata": {},
   "source": [
    "* Lectures on scientific computing with Python (https://github.com/jrjohansson/scientific-python-lectures)"
   ]
  },
  {
   "cell_type": "code",
   "execution_count": 23,
   "metadata": {},
   "outputs": [
    {
     "name": "stderr",
     "output_type": "stream",
     "text": [
      "The syntax of the command is incorrect.\n"
     ]
    }
   ],
   "source": []
  },
  {
   "cell_type": "code",
   "execution_count": null,
   "metadata": {},
   "outputs": [],
   "source": []
  }
 ],
 "metadata": {
  "kernelspec": {
   "display_name": "Python 3",
   "language": "python",
   "name": "python3"
  },
  "language_info": {
   "codemirror_mode": {
    "name": "ipython",
    "version": 3
   },
   "file_extension": ".py",
   "mimetype": "text/x-python",
   "name": "python",
   "nbconvert_exporter": "python",
   "pygments_lexer": "ipython3",
   "version": "3.6.4"
  }
 },
 "nbformat": 4,
 "nbformat_minor": 2
}
